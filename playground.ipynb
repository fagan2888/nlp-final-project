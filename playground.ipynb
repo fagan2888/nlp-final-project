{
 "cells": [
  {
   "cell_type": "code",
   "execution_count": 4,
   "metadata": {},
   "outputs": [],
   "source": [
    "from datetime import date, timedelta\n",
    "import os\n",
    "\n",
    "import matplotlib.pyplot as plt\n",
    "import numpy as np\n",
    "import pandas as pd\n",
    "from sklearn import metrics\n",
    "from sklearn.model_selection import train_test_split\n",
    "import torch\n",
    "from torch import optim\n",
    "from torch import nn\n",
    "from torch.utils.data import DataLoader, random_split\n",
    "from tqdm import tqdm\n",
    "\n",
    "from dataset import StockPriceDataset\n",
    "from model import StockPriceClassifier, StockPriceRegressor\n",
    "\n",
    "%load_ext autoreload\n",
    "%autoreload 2"
   ]
  },
  {
   "cell_type": "code",
   "execution_count": 5,
   "metadata": {},
   "outputs": [
    {
     "name": "stdout",
     "output_type": "stream",
     "text": [
      "found 514 instances, making train/val/test split of 359/77/78\n",
      "\n"
     ]
    }
   ],
   "source": [
    "# For deterministic results\n",
    "np.random.seed(0)\n",
    "torch.manual_seed(0)\n",
    "\n",
    "tweet_data = pd.read_csv('data/tweets_anno_vader.csv', parse_dates=['date'])\n",
    "stock_data = pd.read_csv('data/stocks.csv', parse_dates=['date'])\n",
    "\n",
    "# Config variables\n",
    "window_size = 3\n",
    "min_tweets_per_instance = 1\n",
    "train_ratio = 0.7\n",
    "val_ratio = 0.15\n",
    "\n",
    "num_epochs = 10\n",
    "learning_rate = 1e-3\n",
    "weight_decay = 1e-3\n",
    "model_cfg = dict(\n",
    "    input_size=6,\n",
    "    gru_hidden_size=16,\n",
    "    gru_num_layers=2\n",
    ")\n",
    "\n",
    "# Data setup\n",
    "dataset = StockPriceDataset(tweet_data, stock_data, window_size=window_size, min_tweets_per_instance=min_tweets_per_instance)\n",
    "train_size = int(train_ratio*len(dataset))\n",
    "val_size = int(val_ratio*len(dataset))\n",
    "test_size = len(dataset) - train_size - val_size\n",
    "print(f\"found {len(dataset)} instances, making train/val/test split of {train_size}/{val_size}/{test_size}\\n\")\n",
    "train_dataset, val_dataset, test_dataset = random_split(dataset, [train_size, val_size, test_size])\n",
    "\n",
    "train_loader = DataLoader(train_dataset, batch_size=None, shuffle=True)\n",
    "val_loader = DataLoader(val_dataset, batch_size=None)\n",
    "test_loader = DataLoader(test_dataset, batch_size=None)"
   ]
  },
  {
   "cell_type": "code",
   "execution_count": 8,
   "metadata": {},
   "outputs": [
    {
     "data": {
      "text/plain": [
       "<BarContainer object of 3 artists>"
      ]
     },
     "execution_count": 8,
     "metadata": {},
     "output_type": "execute_result"
    },
    {
     "data": {
      "image/png": "[encoded data removed]",
      "text/plain": [
       "<Figure size 432x288 with 1 Axes>"
      ]
     },
     "metadata": {
      "needs_background": "light"
     },
     "output_type": "display_data"
    }
   ],
   "source": [
    "x = tweet_data['compound']\n",
    "pos = sum(x >= 0.05)\n",
    "neg = sum(x <= -0.05)\n",
    "neu = len(x) - pos - neg\n",
    "plt.xlabel('sentiment')\n",
    "plt.ylabel('number of tweets')\n",
    "plt.bar(['pos', 'neg', 'neu'], [pos, neg, neu])\n",
    "plt.savefig('figures/sent_counts.png')"
   ]
  },
  {
   "cell_type": "code",
   "execution_count": null,
   "metadata": {},
   "outputs": [],
   "source": [
    "bins = np.linspace(x.min(), x.max(), 50)\n",
    "plt.xticks(np.linspace(-1, 1, 11))\n",
    "plt.hist(x, bins=bins)\n",
    "plt.savefig('figures/compound_dist.png')"
   ]
  },
  {
   "cell_type": "code",
   "execution_count": null,
   "metadata": {},
   "outputs": [],
   "source": [
    "x = tweet_data['pos']\n",
    "bins = np.linspace(x.min(), x.max(), 25)\n",
    "plt.xticks(np.linspace(0, 1, 6))\n",
    "plt.hist(x, bins=bins)\n",
    "plt.savefig('figures/pos_dist.png')\n",
    "plt."
   ]
  },
  {
   "cell_type": "code",
   "execution_count": null,
   "metadata": {},
   "outputs": [],
   "source": [
    "x = tweet_data['neg']\n",
    "bins = np.linspace(x.min(), x.max(), 25)\n",
    "plt.xticks(np.linspace(0, 1, 6))\n",
    "plt.hist(x, bins=bins)\n",
    "plt.savefig('figures/neg_dist.png')\n",
    "plt.clf()"
   ]
  },
  {
   "cell_type": "code",
   "execution_count": 13,
   "metadata": {},
   "outputs": [
    {
     "data": {
      "text/plain": [
       "<Figure size 432x288 with 0 Axes>"
      ]
     },
     "metadata": {},
     "output_type": "display_data"
    }
   ],
   "source": [
    "x = tweet_data['neu']\n",
    "bins = np.linspace(x.min(), x.max(), 25)\n",
    "plt.xticks(np.linspace(0, 1, 6))\n",
    "plt.hist(x, bins=bins)\n",
    "plt.savefig('figures/neu_dist.png')\n",
    "plt.clf()"
   ]
  }
 ],
 "metadata": {
  "kernelspec": {
   "display_name": "Python 3",
   "language": "python",
   "name": "python3"
  },
  "language_info": {
   "codemirror_mode": {
    "name": "ipython",
    "version": 3
   },
   "file_extension": ".py",
   "mimetype": "text/x-python",
   "name": "python",
   "nbconvert_exporter": "python",
   "pygments_lexer": "ipython3",
   "version": "3.8.5"
  }
 },
 "nbformat": 4,
 "nbformat_minor": 4
}
